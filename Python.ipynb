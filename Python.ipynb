{
  "nbformat": 4,
  "nbformat_minor": 0,
  "metadata": {
    "colab": {
      "name": "Python.ipynb",
      "provenance": [],
      "collapsed_sections": [],
      "authorship_tag": "ABX9TyOuHrOfO6FBFYLsSbUEWjUt",
      "include_colab_link": true
    },
    "kernelspec": {
      "name": "python3",
      "display_name": "Python 3"
    },
    "language_info": {
      "name": "python"
    }
  },
  "cells": [
    {
      "cell_type": "markdown",
      "metadata": {
        "id": "view-in-github",
        "colab_type": "text"
      },
      "source": [
        "<a href=\"https://colab.research.google.com/github/xaakib/Python-Programming/blob/main/Python.ipynb\" target=\"_parent\"><img src=\"https://colab.research.google.com/assets/colab-badge.svg\" alt=\"Open In Colab\"/></a>"
      ]
    },
    {
      "cell_type": "code",
      "metadata": {
        "colab": {
          "base_uri": "https://localhost:8080/"
        },
        "id": "CqXxOFdFTG1P",
        "outputId": "4801db3d-2b5b-4dc3-e476-50847df98829"
      },
      "source": [
        "name = input(\"What is your name?\\n'\")\n",
        "age = input(\"What is your age?\\n\")\n",
        "yourPerformance = \"Your name is : \"+name+\"\\n\" \"Your age is : \"+age\n",
        "print(yourPerformance)"
      ],
      "execution_count": 25,
      "outputs": [
        {
          "output_type": "stream",
          "name": "stdout",
          "text": [
            "What is your name?\n",
            "shakib\n",
            "What is your age?\n",
            "31\n",
            "Your name is : shakib\n",
            "Your age is : 31\n"
          ]
        }
      ]
    },
    {
      "cell_type": "code",
      "metadata": {
        "colab": {
          "base_uri": "https://localhost:8080/"
        },
        "id": "JM3KtuQzc54q",
        "outputId": "32322bd5-d363-4275-ce1c-54b9ba834232"
      },
      "source": [
        ""
      ],
      "execution_count": null,
      "outputs": [
        {
          "output_type": "stream",
          "name": "stdout",
          "text": [
            "Please check the input. Score exceeds total possible score.\n"
          ]
        }
      ]
    }
  ]
}