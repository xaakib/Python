{
  "nbformat": 4,
  "nbformat_minor": 0,
  "metadata": {
    "colab": {
      "name": "Python.ipynb",
      "provenance": [],
      "collapsed_sections": [],
      "authorship_tag": "ABX9TyMC4B/ln7b+df1kzk5vdHHu",
      "include_colab_link": true
    },
    "kernelspec": {
      "name": "python3",
      "display_name": "Python 3"
    },
    "language_info": {
      "name": "python"
    }
  },
  "cells": [
    {
      "cell_type": "markdown",
      "metadata": {
        "id": "view-in-github",
        "colab_type": "text"
      },
      "source": [
        "<a href=\"https://colab.research.google.com/github/xaakib/Python-Programming/blob/main/Python.ipynb\" target=\"_parent\"><img src=\"https://colab.research.google.com/assets/colab-badge.svg\" alt=\"Open In Colab\"/></a>"
      ]
    },
    {
      "cell_type": "code",
      "metadata": {
        "colab": {
          "base_uri": "https://localhost:8080/"
        },
        "id": "CqXxOFdFTG1P",
        "outputId": "e7fc4b84-07d6-48a1-ff80-d9814817a47d"
      },
      "source": [
        "name = input(\"What is your name?\")\n",
        "age = input(\"What is your age?\")\n",
        "yourPerformance = \"Your name is : \"+name+\"\\n \" \"Your age is : \"+age\n",
        "print(yourPerformance)"
      ],
      "execution_count": 10,
      "outputs": [
        {
          "output_type": "stream",
          "name": "stdout",
          "text": [
            "What is your name?shakiib\n",
            "What is your age?21\n",
            "Your name is : shakiib\n",
            " Your age is : 21\n"
          ]
        }
      ]
    }
  ]
}