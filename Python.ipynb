{
  "nbformat": 4,
  "nbformat_minor": 0,
  "metadata": {
    "colab": {
      "name": "Python.ipynb",
      "provenance": [],
      "collapsed_sections": [],
      "authorship_tag": "ABX9TyMMgylXQ303vOGmavfEeuUm",
      "include_colab_link": true
    },
    "kernelspec": {
      "name": "python3",
      "display_name": "Python 3"
    },
    "language_info": {
      "name": "python"
    }
  },
  "cells": [
    {
      "cell_type": "markdown",
      "metadata": {
        "id": "view-in-github",
        "colab_type": "text"
      },
      "source": [
        "<a href=\"https://colab.research.google.com/github/xaakib/Python-Programming/blob/main/Python.ipynb\" target=\"_parent\"><img src=\"https://colab.research.google.com/assets/colab-badge.svg\" alt=\"Open In Colab\"/></a>"
      ]
    },
    {
      "cell_type": "code",
      "metadata": {
        "colab": {
          "base_uri": "https://localhost:8080/"
        },
        "id": "CqXxOFdFTG1P",
        "outputId": "4801db3d-2b5b-4dc3-e476-50847df98829"
      },
      "source": [
        "name = input(\"What is your name?\\n'\")\n",
        "age = input(\"What is your age?\\n\")\n",
        "yourPerformance = \"Your name is : \"+name+\"\\n\" \"Your age is : \"+age\n",
        "print(yourPerformance)"
      ],
      "execution_count": null,
      "outputs": [
        {
          "output_type": "stream",
          "name": "stdout",
          "text": [
            "What is your name?\n",
            "shakib\n",
            "What is your age?\n",
            "31\n",
            "Your name is : shakib\n",
            "Your age is : 31\n"
          ]
        }
      ]
    },
    {
      "cell_type": "code",
      "metadata": {
        "colab": {
          "base_uri": "https://localhost:8080/",
          "height": 136
        },
        "id": "JM3KtuQzc54q",
        "outputId": "742122c4-b1d1-47d9-e4b5-13cac4c29368"
      },
      "source": [
        "print('input your first number')\n",
        "\n",
        "x = input()\n",
        "print('input your secound number')\n",
        "\n",
        "y=input()\n",
        "t = x+y\n",
        "print(t)\n"
      ],
      "execution_count": 4,
      "outputs": [
        {
          "output_type": "error",
          "ename": "SyntaxError",
          "evalue": "ignored",
          "traceback": [
            "\u001b[0;36m  File \u001b[0;32m\"<ipython-input-4-46707ea344f4>\"\u001b[0;36m, line \u001b[0;32m7\u001b[0m\n\u001b[0;31m    t = x+=y\u001b[0m\n\u001b[0m          ^\u001b[0m\n\u001b[0;31mSyntaxError\u001b[0m\u001b[0;31m:\u001b[0m invalid syntax\n"
          ]
        }
      ]
    },
    {
      "cell_type": "code",
      "metadata": {
        "colab": {
          "base_uri": "https://localhost:8080/"
        },
        "id": "Ij3qBZrQWaEm",
        "outputId": "23b55f0c-abf1-47ad-bd6e-3fdfb7a65416"
      },
      "source": [
        "\n",
        "li = ['shakib','deep','arif']\n",
        "print(li)\n",
        "li.append('xaakibx')\n",
        "print(li)\n",
        "li.sort\n",
        "print(li)\n",
        "fruits = ['apple','bannena','cherry']\n",
        "x,y,z=fruits\n",
        "print(x)\n",
        "print(y)\n",
        "print(z)\n",
        "\n",
        "x = 'awesome'\n",
        "def myfun():\n",
        "  x = 'fantastic'\n",
        "  print('Python is '+x)\n",
        "myfun()\n",
        "print(\"Python is\" +x)\n"
      ],
      "execution_count": 18,
      "outputs": [
        {
          "output_type": "stream",
          "name": "stdout",
          "text": [
            "['shakib', 'deep', 'arif']\n",
            "['shakib', 'deep', 'arif', 'xaakibx']\n",
            "['shakib', 'deep', 'arif', 'xaakibx']\n",
            "apple\n",
            "bannena\n",
            "cherry\n",
            "Python is fantastic\n",
            "Python isawesome\n"
          ]
        }
      ]
    }
  ]
}