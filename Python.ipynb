{
  "cells": [
    {
      "cell_type": "markdown",
      "metadata": {
        "colab_type": "text",
        "id": "view-in-github"
      },
      "source": [
        "<a href=\"https://colab.research.google.com/github/xaakib/Python-Programming/blob/main/Python.ipynb\" target=\"_parent\"><img src=\"https://colab.research.google.com/assets/colab-badge.svg\" alt=\"Open In Colab\"/></a>"
      ]
    },
    {
      "cell_type": "code",
      "execution_count": null,
      "metadata": {
        "colab": {
          "base_uri": "https://localhost:8080/"
        },
        "id": "CqXxOFdFTG1P",
        "outputId": "4801db3d-2b5b-4dc3-e476-50847df98829"
      },
      "outputs": [
        {
          "name": "stdout",
          "output_type": "stream",
          "text": [
            "What is your name?\n",
            "shakib\n",
            "What is your age?\n",
            "31\n",
            "Your name is : shakib\n",
            "Your age is : 31\n"
          ]
        }
      ],
      "source": [
        "name = input(\"What is your name?\\n'\")\n",
        "age = input(\"What is your age?\\n\")\n",
        "yourPerformance = \"Your name is : \"+name+\"\\n\" \"Your age is : \"+age\n",
        "print(yourPerformance)"
      ]
    },
    {
      "cell_type": "code",
      "execution_count": null,
      "metadata": {},
      "outputs": [],
      "source": []
    },
    {
      "cell_type": "code",
      "execution_count": 4,
      "metadata": {
        "colab": {
          "base_uri": "https://localhost:8080/",
          "height": 136
        },
        "id": "JM3KtuQzc54q",
        "outputId": "742122c4-b1d1-47d9-e4b5-13cac4c29368"
      },
      "outputs": [
        {
          "ename": "SyntaxError",
          "evalue": "ignored",
          "output_type": "error",
          "traceback": [
            "\u001b[0;36m  File \u001b[0;32m\"<ipython-input-4-46707ea344f4>\"\u001b[0;36m, line \u001b[0;32m7\u001b[0m\n\u001b[0;31m    t = x+=y\u001b[0m\n\u001b[0m          ^\u001b[0m\n\u001b[0;31mSyntaxError\u001b[0m\u001b[0;31m:\u001b[0m invalid syntax\n"
          ]
        }
      ],
      "source": [
        "print('input your first number')\n",
        "\n",
        "x = input()\n",
        "print('input your secound number')\n",
        "\n",
        "y=input()\n",
        "t = x+y\n",
        "print(t)\n"
      ]
    },
    {
      "cell_type": "code",
      "execution_count": 18,
      "metadata": {
        "colab": {
          "base_uri": "https://localhost:8080/"
        },
        "id": "Ij3qBZrQWaEm",
        "outputId": "23b55f0c-abf1-47ad-bd6e-3fdfb7a65416"
      },
      "outputs": [
        {
          "name": "stdout",
          "output_type": "stream",
          "text": [
            "['shakib', 'deep', 'arif']\n",
            "['shakib', 'deep', 'arif', 'xaakibx']\n",
            "['shakib', 'deep', 'arif', 'xaakibx']\n",
            "apple\n",
            "bannena\n",
            "cherry\n",
            "Python is fantastic\n",
            "Python isawesome\n"
          ]
        }
      ],
      "source": [
        "\n",
        "li = ['shakib','deep','arif']\n",
        "print(li)\n",
        "li.append('xaakibx')\n",
        "print(li)\n",
        "li.sort\n",
        "print(li)\n",
        "fruits = ['apple','bannena','cherry']\n",
        "x,y,z=fruits\n",
        "print(x)\n",
        "print(y)\n",
        "print(z)\n",
        "\n",
        "x = 'awesome'\n",
        "def myfun():\n",
        "  x = 'fantastic'\n",
        "  print('Python is '+x)\n",
        "myfun()\n",
        "print(\"Python is\" +x)\n"
      ]
    }
  ],
  "metadata": {
    "colab": {
      "authorship_tag": "ABX9TyMMgylXQ303vOGmavfEeuUm",
      "collapsed_sections": [],
      "include_colab_link": true,
      "name": "Python.ipynb",
      "provenance": []
    },
    "interpreter": {
      "hash": "31f2aee4e71d21fbe5cf8b01ff0e069b9275f58929596ceb00d14d90e3e16cd6"
    },
    "kernelspec": {
      "display_name": "Python 3.8.2 64-bit",
      "name": "python3"
    },
    "language_info": {
      "name": "python",
      "version": "3.8.2"
    }
  },
  "nbformat": 4,
  "nbformat_minor": 0
}
